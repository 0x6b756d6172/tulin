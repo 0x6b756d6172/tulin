{
 "cells": [
  {
   "cell_type": "code",
   "execution_count": null,
   "metadata": {},
   "outputs": [],
   "source": [
    "#export\n",
    "if __name__ == \"__main__\":"
   ]
  },
  {
   "cell_type": "code",
   "execution_count": 1,
   "metadata": {},
   "outputs": [],
   "source": [
    "    #export\n",
    "    import os\n",
    "    import json\n",
    "    import glob\n",
    "    import shutil"
   ]
  },
  {
   "cell_type": "code",
   "execution_count": 2,
   "metadata": {},
   "outputs": [],
   "source": [
    "    #export\n",
    "    path = './'\n",
    "    notebooks = [f for f in glob.glob(path + \"**/*.ipynb\", recursive=True)]\n",
    "    nonNotebookFiles = [f for f in glob.glob(path + \"**/*\", recursive=True) if \".ipynb\" not in f and \"./src/\" not in f and not os.path.isdir(f)]"
   ]
  },
  {
   "cell_type": "code",
   "execution_count": 3,
   "metadata": {},
   "outputs": [
    {
     "data": {
      "text/plain": [
       "'./src/'"
      ]
     },
     "execution_count": 3,
     "metadata": {},
     "output_type": "execute_result"
    }
   ],
   "source": [
    "    #export\n",
    "    shutil.rmtree(\"./src/\", ignore_errors=True)\n",
    "    shutil.copytree('.', './src/', ignore=shutil.ignore_patterns('*.pyc', '*.ipynb', './src/*', '.git'))"
   ]
  },
  {
   "cell_type": "code",
   "execution_count": 4,
   "metadata": {},
   "outputs": [
    {
     "ename": "FileNotFoundError",
     "evalue": "[Errno 2] No such file or directory: '../src/../src/tulin/scripts/export.py'",
     "output_type": "error",
     "traceback": [
      "\u001b[0;31m---------------------------------------------------------------------------\u001b[0m",
      "\u001b[0;31mFileNotFoundError\u001b[0m                         Traceback (most recent call last)",
      "\u001b[0;32m<ipython-input-4-c84c32d56f57>\u001b[0m in \u001b[0;36m<module>\u001b[0;34m\u001b[0m\n\u001b[1;32m     13\u001b[0m \u001b[0;34m\u001b[0m\u001b[0m\n\u001b[1;32m     14\u001b[0m     \u001b[0;32mif\u001b[0m \u001b[0mlen\u001b[0m\u001b[0;34m(\u001b[0m\u001b[0mlines\u001b[0m\u001b[0;34m)\u001b[0m \u001b[0;34m>\u001b[0m \u001b[0;36m0\u001b[0m\u001b[0;34m:\u001b[0m\u001b[0;34m\u001b[0m\u001b[0;34m\u001b[0m\u001b[0m\n\u001b[0;32m---> 15\u001b[0;31m         \u001b[0;32mwith\u001b[0m \u001b[0mopen\u001b[0m\u001b[0;34m(\u001b[0m\u001b[0;34mf\"{notebook.replace('./', './src/').replace('ipynb', 'py')}\"\u001b[0m\u001b[0;34m,\u001b[0m \u001b[0;34m'w'\u001b[0m\u001b[0;34m)\u001b[0m \u001b[0;32mas\u001b[0m \u001b[0moutput\u001b[0m\u001b[0;34m:\u001b[0m\u001b[0;34m\u001b[0m\u001b[0;34m\u001b[0m\u001b[0m\n\u001b[0m\u001b[1;32m     16\u001b[0m             \u001b[0moutput\u001b[0m\u001b[0;34m.\u001b[0m\u001b[0mwritelines\u001b[0m\u001b[0;34m(\u001b[0m\u001b[0mlines\u001b[0m\u001b[0;34m)\u001b[0m\u001b[0;34m\u001b[0m\u001b[0;34m\u001b[0m\u001b[0m\n",
      "\u001b[0;31mFileNotFoundError\u001b[0m: [Errno 2] No such file or directory: '../src/../src/tulin/scripts/export.py'"
     ]
    }
   ],
   "source": [
    "    #export\n",
    "    for notebook in notebooks:\n",
    "        lines = []\n",
    "        for cell in json.load(open(notebook))[\"cells\"]:\n",
    "            if cell[\"cell_type\"] == \"code\":\n",
    "                if len(cell[\"source\"]) > 0:\n",
    "                    if \"#export\" in cell[\"source\"][0]:\n",
    "                        cell = cell[\"source\"][1:]\n",
    "                        for i, line in enumerate(cell):\n",
    "                            if \"import src.\" in line or \"from src.\" in line:\n",
    "                                cell[i] = line.replace(\"src.\", \"\")\n",
    "                        lines = lines + cell + [\"\\n\\n\"]\n",
    "\n",
    "        if len(lines) > 0:\n",
    "            with open(f\"{notebook.replace('./', './src/').replace('ipynb', 'py')}\", 'w') as output:\n",
    "                output.writelines(lines)"
   ]
  },
  {
   "cell_type": "code",
   "execution_count": null,
   "metadata": {},
   "outputs": [],
   "source": [
    "#export\n"
   ]
  }
 ],
 "metadata": {
  "kernelspec": {
   "display_name": "Python 3",
   "language": "python",
   "name": "python3"
  },
  "language_info": {
   "codemirror_mode": {
    "name": "ipython",
    "version": 3
   },
   "file_extension": ".py",
   "mimetype": "text/x-python",
   "name": "python",
   "nbconvert_exporter": "python",
   "pygments_lexer": "ipython3",
   "version": "3.7.4"
  }
 },
 "nbformat": 4,
 "nbformat_minor": 4
}
