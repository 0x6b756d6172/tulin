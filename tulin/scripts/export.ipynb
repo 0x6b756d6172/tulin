{
 "cells": [
  {
   "cell_type": "code",
   "execution_count": 10,
   "metadata": {},
   "outputs": [],
   "source": [
    "#export\n",
    "import os\n",
    "import json\n",
    "import glob\n",
    "import shutil\n",
    "import re"
   ]
  },
  {
   "cell_type": "code",
   "execution_count": 19,
   "metadata": {},
   "outputs": [],
   "source": [
    "#export\n",
    "path = './'\n",
    "notebooks = [f for f in glob.glob(path + \"**/*.ipynb\", recursive=True)]\n",
    "nonNotebookFiles = [f for f in glob.glob(path + \"**/*\", recursive=True) if \".ipynb\" not in f and \"./src/\" not in f and not os.path.isdir(f)]"
   ]
  },
  {
   "cell_type": "code",
   "execution_count": 20,
   "metadata": {},
   "outputs": [
    {
     "data": {
      "text/plain": [
       "'./src/'"
      ]
     },
     "execution_count": 20,
     "metadata": {},
     "output_type": "execute_result"
    }
   ],
   "source": [
    "#export\n",
    "shutil.rmtree(\"./src/\", ignore_errors=True)\n",
    "shutil.copytree('.', './src/', ignore=shutil.ignore_patterns('*.pyc', '*.ipynb', './src/*', '.git'))"
   ]
  },
  {
   "cell_type": "code",
   "execution_count": 37,
   "metadata": {},
   "outputs": [
    {
     "name": "stdout",
     "output_type": "stream",
     "text": [
      "./src/export.py\n"
     ]
    }
   ],
   "source": [
    "#export\n",
    "for notebook in notebooks:\n",
    "    lines = []\n",
    "    outputFileName = notebook.replace('./', './src/').replace('ipynb', 'py')\n",
    "    for cell in json.load(open(notebook))[\"cells\"]:\n",
    "        if cell[\"cell_type\"] == \"code\":\n",
    "            if len(cell[\"source\"]) > 0:\n",
    "                if \"#export\" in cell[\"source\"][0]:\n",
    "                    cell = cell[\"source\"][1:]\n",
    "                    for i, line in enumerate(cell):\n",
    "                        if \"import src.\" in line or \"from src.\" in line:\n",
    "                            cell[i] = line.replace(\"src.\", \".\")\n",
    "                    lines = lines + cell + [\"\\n\\n\"]\n",
    "\n",
    "    if len(lines) > 0:\n",
    "        print(outputFileName)\n",
    "        with open(outputFileName, 'w') as output:\n",
    "            output.writelines(lines)"
   ]
  }
 ],
 "metadata": {
  "kernelspec": {
   "display_name": "Python 3",
   "language": "python",
   "name": "python3"
  },
  "language_info": {
   "codemirror_mode": {
    "name": "ipython",
    "version": 3
   },
   "file_extension": ".py",
   "mimetype": "text/x-python",
   "name": "python",
   "nbconvert_exporter": "python",
   "pygments_lexer": "ipython3",
   "version": "3.7.4"
  }
 },
 "nbformat": 4,
 "nbformat_minor": 4
}
